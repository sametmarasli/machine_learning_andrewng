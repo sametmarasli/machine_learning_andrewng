{
 "cells": [
  {
   "cell_type": "markdown",
   "metadata": {},
   "source": [
    "## Regularized Linear Regression and Bias v.s. Variance"
   ]
  },
  {
   "cell_type": "code",
   "execution_count": 1,
   "metadata": {
    "collapsed": false
   },
   "outputs": [],
   "source": [
    "import pandas as pd\n",
    "import numpy as np \n",
    "import matplotlib.pyplot as plt\n",
    "import matplotlib\n",
    "import os\n",
    "import scipy.optimize as opt\n",
    "import scipy.io as from_octave # used to implement mat file type\n",
    "from sklearn.preprocessing import OneHotEncoder \n",
    "import ex5_func as fn\n",
    "import random as rd\n",
    "\n",
    "# Update the matplotlib configuration parameters: \n",
    "matplotlib.rcParams.update({'font.size': 12, 'font.family': 'ubuntu'})\n",
    "% matplotlib inline"
   ]
  },
  {
   "cell_type": "markdown",
   "metadata": {},
   "source": [
    "## 1 Regularized Linear Regression"
   ]
  },
  {
   "cell_type": "markdown",
   "metadata": {},
   "source": [
    "In the  first half of the exercise, regularized linear regression is implemented to predict the amount of water flowing out of a dam using the change of water level in a reservoir.  In the next half, some diagnostics of debugging learning algorithms will be employed and the efects of bias v.s. variance will be examined."
   ]
  },
  {
   "cell_type": "markdown",
   "metadata": {},
   "source": [
    "## Visualizing the dataset"
   ]
  },
  {
   "cell_type": "code",
   "execution_count": 2,
   "metadata": {
    "collapsed": false
   },
   "outputs": [
    {
     "name": "stdout",
     "output_type": "stream",
     "text": [
      "['ytest', 'yval', '__header__', '__globals__', 'Xtest', 'Xval', 'y', 'X', '__version__']\n"
     ]
    },
    {
     "data": {
      "text/plain": [
       "((12, 1), (12, 1), (21, 1), (21, 1), (21, 1), (21, 1))"
      ]
     },
     "execution_count": 2,
     "metadata": {},
     "output_type": "execute_result"
    }
   ],
   "source": [
    "# Loading Data\n",
    "directory = os.getcwd() + '/ex5data1.mat'\n",
    "data = from_octave.loadmat(directory)\n",
    "print data.keys()\n",
    "# assign variables\n",
    "X = np.array(data['X'])\n",
    "X_val = np.array(data['Xval'])\n",
    "X_test = np.array(data['Xtest'])\n",
    "y = np.array(data['y'])\n",
    "y_val = np.array(data['yval'])\n",
    "y_test = np.array(data['ytest'])\n",
    "\n",
    "X.shape, y.shape, X_val.shape, y_val.shape , X_test.shape, y_test.shape"
   ]
  },
  {
   "cell_type": "code",
   "execution_count": 3,
   "metadata": {
    "collapsed": false
   },
   "outputs": [
    {
     "data": {
      "text/plain": [
       "<matplotlib.text.Text at 0x7f73ca5799d0>"
      ]
     },
     "execution_count": 3,
     "metadata": {},
     "output_type": "execute_result"
    },
    {
     "data": {
      "image/png": "[encoded data removed]",
      "text/plain": [
       "<matplotlib.figure.Figure at 0x7f73ca5a8ed0>"
      ]
     },
     "metadata": {},
     "output_type": "display_data"
    }
   ],
   "source": [
    "plt.figure(figsize=(7,5))\n",
    "plt.plot(X,y,'x',mew=2)\n",
    "plt.xlabel(\"Change in water level (x)\")\n",
    "plt.ylabel('Water flowing out of the dam (y)')"
   ]
  },
  {
   "cell_type": "markdown",
   "metadata": {},
   "source": [
    "## Regularized Linear Regression Cost & Gradient"
   ]
  },
  {
   "cell_type": "code",
   "execution_count": 4,
   "metadata": {
    "collapsed": false,
    "scrolled": true
   },
   "outputs": [
    {
     "name": "stdout",
     "output_type": "stream",
     "text": [
      "Cost at theta = [1 ; 1]: [[ 303.95152555]] \n",
      "this value should be about 303.993192\n",
      "\n",
      "Gradient at theta = [1 ; 1]: [[ -15.30301567  598.25074417]] \n",
      "(this value should be about [-15.303016; 598.250744])\n",
      "\n"
     ]
    }
   ],
   "source": [
    "reload(fn)\n",
    "# initialize theta and lamda\n",
    "theta = np.array([1,1])\n",
    "lambda_ = 1.\n",
    "\n",
    "# add bias units to X\n",
    "Xb = np.insert(X,0,1,axis=1)\n",
    "\n",
    "cost ,grad = fn.linearRegCostFunction(theta, Xb, y, lambda_)\n",
    "\n",
    "print 'Cost at theta = [1 ; 1]: {} '.format(cost)\n",
    "print 'this value should be about 303.993192'\n",
    "\n",
    "print '\\nGradient at theta = [1 ; 1]: {} '.format(grad.T) \n",
    "print '(this value should be about [-15.303016; 598.250744])\\n'"
   ]
  },
  {
   "cell_type": "markdown",
   "metadata": {},
   "source": [
    "## Train Linear Regression"
   ]
  },
  {
   "cell_type": "code",
   "execution_count": 5,
   "metadata": {
    "collapsed": false
   },
   "outputs": [],
   "source": [
    "reload(fn)\n",
    "\n",
    "theta = fn.trainLinearReg(Xb, y, lambda_)"
   ]
  },
  {
   "cell_type": "code",
   "execution_count": 6,
   "metadata": {
    "collapsed": false
   },
   "outputs": [
    {
     "data": {
      "text/plain": [
       "<matplotlib.text.Text at 0x7f73c7a64ad0>"
      ]
     },
     "execution_count": 6,
     "metadata": {},
     "output_type": "execute_result"
    },
    {
     "data": {
      "image/png": "[encoded data removed]",
      "text/plain": [
       "<matplotlib.figure.Figure at 0x7f73ca5a8d50>"
      ]
     },
     "metadata": {},
     "output_type": "display_data"
    }
   ],
   "source": [
    "plt.figure(figsize=(7,5))\n",
    "plt.plot(X,y,'rx',mew=2)\n",
    "plt.plot(X, Xb.dot(theta),'b')\n",
    "plt.xlabel(\"Change in water level (x)\")\n",
    "plt.ylabel('Water flowing out of the dam (y)')"
   ]
  },
  {
   "cell_type": "markdown",
   "metadata": {},
   "source": [
    "## 2 Bias-variance"
   ]
  },
  {
   "cell_type": "markdown",
   "metadata": {},
   "source": [
    "## Learning Curve for Linear Regression"
   ]
  },
  {
   "cell_type": "markdown",
   "metadata": {},
   "source": [
    "An important concept in machine learning is the bias-variance tradeoff. Models with high bias are not complex enough for the data and tend to undefit, while models with high variance overfit to the training data. \n",
    "\n",
    "In  this  part  of  the  exercise, training  and  test  errors  are fit on a learning curve to diagnose bias-variance problems."
   ]
  },
  {
   "cell_type": "markdown",
   "metadata": {},
   "source": [
    "## Learning curves"
   ]
  },
  {
   "cell_type": "code",
   "execution_count": 7,
   "metadata": {
    "collapsed": true
   },
   "outputs": [],
   "source": [
    "# add bias terms to X_val\n",
    "Xb_val = np.insert(X_val, 0, 1, axis=1)"
   ]
  },
  {
   "cell_type": "code",
   "execution_count": 8,
   "metadata": {
    "collapsed": false,
    "scrolled": false
   },
   "outputs": [
    {
     "name": "stdout",
     "output_type": "stream",
     "text": [
      "Training Examples  Train Error  Cross Validation Error\n",
      "\n",
      "\t0\t \t0.0 \t\t205.12\n",
      "\t1\t \t0.0 \t\t110.3\n",
      "\t2\t \t3.29 \t\t45.01\n",
      "\t3\t \t2.84 \t\t48.37\n",
      "\t4\t \t13.15 \t\t35.87\n",
      "\t5\t \t19.44 \t\t33.83\n",
      "\t6\t \t20.1 \t\t31.97\n",
      "\t7\t \t18.17 \t\t30.86\n",
      "\t8\t \t22.61 \t\t31.14\n",
      "\t9\t \t23.26 \t\t28.94\n",
      "\t10\t \t24.32 \t\t29.55\n",
      "\t11\t \t22.37 \t\t29.43\n"
     ]
    },
    {
     "data": {
      "image/png": "[encoded data removed]",
      "text/plain": [
       "<matplotlib.figure.Figure at 0x7f73c79f7090>"
      ]
     },
     "metadata": {},
     "output_type": "display_data"
    }
   ],
   "source": [
    "reload(fn)\n",
    "lambda_ = 0\n",
    "cost_train, cost_val =fn.learningCurve(Xb, y, Xb_val, y_val, lambda_)"
   ]
  }
 ],
 "metadata": {
  "kernelspec": {
   "display_name": "Python [Root]",
   "language": "python",
   "name": "Python [Root]"
  },
  "language_info": {
   "codemirror_mode": {
    "name": "ipython",
    "version": 2
   },
   "file_extension": ".py",
   "mimetype": "text/x-python",
   "name": "python",
   "nbconvert_exporter": "python",
   "pygments_lexer": "ipython2",
   "version": "2.7.12"
  }
 },
 "nbformat": 4,
 "nbformat_minor": 0
}
