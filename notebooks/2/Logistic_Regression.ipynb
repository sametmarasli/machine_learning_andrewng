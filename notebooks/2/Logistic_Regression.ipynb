{
 "cells": [
  {
   "cell_type": "markdown",
   "metadata": {},
   "source": [
    "## Logistic Regression"
   ]
  },
  {
   "cell_type": "markdown",
   "metadata": {},
   "source": [
    "In the first part of this exercise, logistic regression model is employed to predict whether a student gets admitted to a university.  Suppose that you are the administrator of a university department and you want to determine each applicant's chance of admission based on their results on two exams. You have historical data from previous applicants that you can use as a training set for logistic regression.  For each training example, you have the applicant's scores on two exams and the admissions decision.  To accomplish this, we're going to build a classification model that estimates the probability of admission based on the exam scores."
   ]
  },
  {
   "cell_type": "code",
   "execution_count": 1,
   "metadata": {
    "collapsed": true
   },
   "outputs": [],
   "source": [
    "import pandas as pd\n",
    "import numpy as np \n",
    "import matplotlib.pyplot as plt\n",
    "import matplotlib\n",
    "import os\n",
    "import scipy.optimize as opt\n",
    "# get_ipython().magic(u'matplotlib inline')\n",
    "# Update the matplotlib configuration parameters: \n",
    "matplotlib.rcParams.update({'font.size': 12, 'font.family': 'ubuntu'})\n",
    "%matplotlib inline"
   ]
  },
  {
   "cell_type": "markdown",
   "metadata": {},
   "source": [
    "##  Loading and Visualizing Data"
   ]
  },
  {
   "cell_type": "code",
   "execution_count": 2,
   "metadata": {
    "collapsed": false
   },
   "outputs": [],
   "source": [
    "directory = os.getcwd() + '/ex2data1.txt'\n",
    "#an alternative to pandas read_csv\n",
    "data = np.genfromtxt(directory,delimiter=',')\n",
    "\n",
    "X = data[:,(0,1)]\n",
    "y = data[:,-1].reshape(len(X),1)"
   ]
  },
  {
   "cell_type": "code",
   "execution_count": 3,
   "metadata": {
    "collapsed": false
   },
   "outputs": [
    {
     "data": {
      "text/plain": [
       "<matplotlib.legend.Legend at 0x7f49e031c710>"
      ]
     },
     "execution_count": 3,
     "metadata": {},
     "output_type": "execute_result"
    },
    {
     "data": {
      "image/png": "[encoded data removed]",
      "text/plain": [
       "<matplotlib.figure.Figure at 0x7f49af04ad90>"
      ]
     },
     "metadata": {},
     "output_type": "display_data"
    }
   ],
   "source": [
    "# split data\n",
    "data_1 = data[data[:,2]==1]\n",
    "data_0 = data[data[:,2]==0]\n",
    "\n",
    "# plot data\n",
    "plt.figure(figsize=(7,5))\n",
    "plt.plot(data_0[:,0],data_0[:,1], 'ro', color='y', markersize=7, label='not admitted')\n",
    "plt.plot(data_1[:,0],data_1[:,1], 'r+', color='k', markersize=7, label='admitted')\n",
    "plt.xlabel('Exam1 score')\n",
    "plt.ylabel('Exam2 score')\n",
    "plt.legend()\n"
   ]
  },
  {
   "cell_type": "markdown",
   "metadata": {},
   "source": [
    "## Sigmoid Function\n"
   ]
  },
  {
   "cell_type": "code",
   "execution_count": 4,
   "metadata": {
    "collapsed": true
   },
   "outputs": [],
   "source": [
    "def sigmoid(z):\n",
    "    '''\n",
    "    J = SIGMOID(z) computes the sigmoid of z.\n",
    "    '''\n",
    "    return 1./(1+np.exp(-z))"
   ]
  },
  {
   "cell_type": "code",
   "execution_count": 5,
   "metadata": {
    "collapsed": false
   },
   "outputs": [
    {
     "data": {
      "image/png": "[encoded data removed]",
      "text/plain": [
       "<matplotlib.figure.Figure at 0x7f49af2cac10>"
      ]
     },
     "metadata": {},
     "output_type": "display_data"
    }
   ],
   "source": [
    "# plot sigmoid\n",
    "int = np.arange(-7,7,.1)\n",
    "plt.plot(int,sigmoid(int))\n",
    "plt.grid()"
   ]
  },
  {
   "cell_type": "markdown",
   "metadata": {},
   "source": [
    "## Cost Function & Gradient"
   ]
  },
  {
   "cell_type": "code",
   "execution_count": 6,
   "metadata": {
    "collapsed": false
   },
   "outputs": [],
   "source": [
    "def costFunction(theta,X,y):\n",
    "    '''\n",
    "    J = COSTFUNCTION(theta, X, y) computes the cost of using theta as the\n",
    "    parameter for logistic regression \n",
    "    '''\n",
    "    m,n = X.shape\n",
    "    h = sigmoid(np.dot(X,theta))\n",
    "    J = (-np.dot(y.T,np.log(h))-np.dot((1-y).T,np.log(1-h)))*1/m\n",
    "    return J\n",
    "\n",
    "def gradient(theta,X,y):\n",
    "    '''\n",
    "    grad = gradient(theta, X, y)\n",
    "    computes the gradient of the cost w.r.t. to the parameters.\n",
    "    '''\n",
    "    m,n = X.shape\n",
    "    y = np.matrix(y)\n",
    "    X = np.matrix(X)\n",
    "    theta = np.matrix(theta)\n",
    "    h = sigmoid(X.dot(theta.T))\n",
    "    grad = (X.T*(h-y))/m\n",
    "    return grad"
   ]
  },
  {
   "cell_type": "code",
   "execution_count": 7,
   "metadata": {
    "collapsed": false
   },
   "outputs": [
    {
     "name": "stdout",
     "output_type": "stream",
     "text": [
      "\n",
      "Cost at initial theta (zeros): 0.69314718056 \n",
      "\n",
      "Gradient at initial theta (zeros):\n",
      " [[ -0.1       ]\n",
      " [-12.00921659]\n",
      " [-11.26284221]] \n",
      "\n"
     ]
    }
   ],
   "source": [
    "# add bias terms\n",
    "m,n = X.shape\n",
    "X_ = np.insert(X, 0, 1,axis=1)\n",
    "\n",
    "# init parameters\n",
    "init_theta = np.zeros(n+1)\n",
    "\n",
    "# J\n",
    "cost = costFunction(init_theta,X_,y)\n",
    "grad = gradient(init_theta,X_,y)\n",
    "\n",
    "print '\\nCost at initial theta (zeros): {} '.format(cost[0])\n",
    "print '\\nGradient at initial theta (zeros):'\n",
    "print ' {} \\n'.format(grad)"
   ]
  },
  {
   "cell_type": "markdown",
   "metadata": {},
   "source": [
    "## Optimizing using fmin"
   ]
  },
  {
   "cell_type": "code",
   "execution_count": 8,
   "metadata": {
    "collapsed": false
   },
   "outputs": [
    {
     "name": "stdout",
     "output_type": "stream",
     "text": [
      "\n",
      "Cost at theta found by fminunc: [ 0.2034977]\n",
      "\n",
      "theta: [-25.16131843   0.20623159   0.20147148] \n"
     ]
    }
   ],
   "source": [
    "result = opt.fmin_tnc(func=costFunction,\n",
    "                      x0=init_theta, \n",
    "                      fprime=gradient, \n",
    "                      args=(X_, y))\n",
    "\n",
    "theta = result[0]\n",
    "\n",
    "print '\\nCost at theta found by fminunc: {}'.format(costFunction(theta,X_,y))\n",
    "print '\\ntheta: {} '.format(theta)"
   ]
  },
  {
   "cell_type": "markdown",
   "metadata": {},
   "source": [
    "## Evaluating Logistic Regression"
   ]
  },
  {
   "cell_type": "code",
   "execution_count": 9,
   "metadata": {
    "collapsed": false
   },
   "outputs": [
    {
     "data": {
      "text/plain": [
       "[<matplotlib.lines.Line2D at 0x7f49ac48e750>]"
      ]
     },
     "execution_count": 9,
     "metadata": {},
     "output_type": "execute_result"
    },
    {
     "data": {
      "image/png": "[encoded data removed]",
      "text/plain": [
       "<matplotlib.figure.Figure at 0x7f49ac9d96d0>"
      ]
     },
     "metadata": {},
     "output_type": "display_data"
    }
   ],
   "source": [
    "plt.figure(figsize=(7,5))\n",
    "plt.axis([30, 100, 30, 100])\n",
    "plt.plot(data_0[:,0],data_0[:,1], 'ro', color='y', markersize=7, label='not admitted')\n",
    "plt.plot(data_1[:,0],data_1[:,1], 'r+', color='k', markersize=7, label='admitted')\n",
    "plt.xlabel('Exam1 score')\n",
    "plt.ylabel('Exam2 score')\n",
    "plt.legend()\n",
    "\n",
    "# initialize  two points on x axis\n",
    "plot_x = np.array((np.min(X_[:,2])-2 , np.max(X_[:,2])+2))\n",
    "# find corresponding values on decision boundary \n",
    "ploy_y = -1/ theta[2] * (theta[1]*plot_x +theta[0])\n",
    "plt.plot(plot_x, ploy_y)\n"
   ]
  },
  {
   "cell_type": "markdown",
   "metadata": {},
   "source": [
    "## Performance of the Algoritm"
   ]
  },
  {
   "cell_type": "code",
   "execution_count": 10,
   "metadata": {
    "collapsed": false
   },
   "outputs": [
    {
     "name": "stdout",
     "output_type": "stream",
     "text": [
      "\n",
      "For a student with scores 45 and 85, we predict an admission probability of 0.776290620821\n",
      "\n"
     ]
    }
   ],
   "source": [
    "ex1 = 45\n",
    "ex2 = 85\n",
    "newX = np.array([1,ex1,ex2])\n",
    "prob = sigmoid(np.dot(theta.T,newX))\n",
    "print '\\nFor a student with scores 45 and 85, we predict an admission probability of {}\\n'.format(prob)"
   ]
  },
  {
   "cell_type": "code",
   "execution_count": 11,
   "metadata": {
    "collapsed": false
   },
   "outputs": [],
   "source": [
    "def accuracy(X,y,theta):\n",
    "    m,n = X.shape\n",
    "    theta = theta.reshape(n,1)\n",
    "    prob = sigmoid( X.dot(theta))\n",
    "    return np.mean(np.array( prob>0.5, dtype='int_') == y)*100\n"
   ]
  },
  {
   "cell_type": "code",
   "execution_count": 12,
   "metadata": {
    "collapsed": false
   },
   "outputs": [
    {
     "name": "stdout",
     "output_type": "stream",
     "text": [
      "Train Accuracy: %89.0\n"
     ]
    }
   ],
   "source": [
    "train_ac = accuracy(X_,y,theta)\n",
    "print 'Train Accuracy: %{}'.format(train_ac)"
   ]
  }
 ],
 "metadata": {
  "kernelspec": {
   "display_name": "Python [Root]",
   "language": "python",
   "name": "Python [Root]"
  },
  "language_info": {
   "codemirror_mode": {
    "name": "ipython",
    "version": 2
   },
   "file_extension": ".py",
   "mimetype": "text/x-python",
   "name": "python",
   "nbconvert_exporter": "python",
   "pygments_lexer": "ipython2",
   "version": "2.7.12"
  }
 },
 "nbformat": 4,
 "nbformat_minor": 0
}
