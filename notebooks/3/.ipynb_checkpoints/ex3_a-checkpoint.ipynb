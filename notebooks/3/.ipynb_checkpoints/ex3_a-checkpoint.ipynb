{
 "cells": [
  {
   "cell_type": "code",
   "execution_count": 350,
   "metadata": {
    "collapsed": true
   },
   "outputs": [],
   "source": [
    "import pandas as pd\n",
    "import numpy as np \n",
    "import matplotlib.pyplot as plt\n",
    "import matplotlib\n",
    "import os\n",
    "import scipy.optimize as opt\n",
    "import scipy.io as from_octave # used to implement mat file type\n",
    "import random as rd\n",
    "import matplotlib.cm as cm # used to display images in a specific colormap\n",
    "from scipy.misc import toimage # used to convert matrix to image\n",
    "# Update the matplotlib configuration parameters: \n",
    "matplotlib.rcParams.update({'font.size': 12, 'font.family': 'ubuntu'})\n",
    "% matplotlib inline"
   ]
  },
  {
   "cell_type": "markdown",
   "metadata": {},
   "source": [
    "## Convert .mat file and prepare data"
   ]
  },
  {
   "cell_type": "code",
   "execution_count": 351,
   "metadata": {
    "collapsed": false
   },
   "outputs": [
    {
     "data": {
      "text/plain": [
       "((5000, 1),\n",
       " (5000, 400),\n",
       " array([  1.,   2.,   3.,   4.,   5.,   6.,   7.,   8.,   9.,  10.]))"
      ]
     },
     "execution_count": 351,
     "metadata": {},
     "output_type": "execute_result"
    }
   ],
   "source": [
    "directory = '/home/samet/Desktop/ng_assigments/my_assig/data/ex3data1.mat'\n",
    "mat = from_octave.loadmat(directory)\n",
    "y = np.array(mat['y'],dtype='float')\n",
    "X = np.array(mat['X'],dtype='float')\n",
    "\n",
    "# Setup the parameters you will use for this part of the exercise\n",
    "input_layer_size  = 400  # 20x20 Input Images of Digits\n",
    "num_labels = 10          # 10 labels, from 1 to 10 (for octave) 10 is actually 0\n",
    "m,n = X.shape \n",
    "\n",
    "y.shape, X.shape , np.unique(y)"
   ]
  },
  {
   "cell_type": "code",
   "execution_count": 352,
   "metadata": {
    "collapsed": false
   },
   "outputs": [
    {
     "data": {
      "text/plain": [
       "<matplotlib.image.AxesImage at 0x7fe0a3d994d0>"
      ]
     },
     "execution_count": 352,
     "metadata": {},
     "output_type": "execute_result"
    },
    {
     "data": {
      "image/png": "[encoded data removed]",
      "text/plain": [
       "<matplotlib.figure.Figure at 0x7fe0a3e47e50>"
      ]
     },
     "metadata": {},
     "output_type": "display_data"
    }
   ],
   "source": [
    "# plot some images\n",
    "fig = plt.figure(figsize=(10,10))\n",
    "# randomly select 100 data points\n",
    "sel = rd.sample(range(1, m), 10);\n",
    "data1 = X[sel].reshape(200,20).T\n",
    "img = toimage(data1)\n",
    "plt.imshow(img,cmap = cm.Greys_r)\n"
   ]
  },
  {
   "cell_type": "markdown",
   "metadata": {},
   "source": [
    "## Cost Function"
   ]
  },
  {
   "cell_type": "code",
   "execution_count": 353,
   "metadata": {
    "collapsed": false
   },
   "outputs": [],
   "source": [
    "def sigmoid(x):\n",
    "    return 1/(1+np.exp(-x))\n",
    "\n",
    "def lrCostFunction(theta,X,y,lambda_):\n",
    "    m,n = X.shape\n",
    "    h = sigmoid(X.dot(theta))\n",
    "    reg = lambda_/(2*m)*theta.T.dot(theta)\n",
    "    J = -(y.T.dot(np.log(h))+(1-y).T.dot(np.log(1-h)))*1/m + reg\n",
    "    return np.asscalar(J)"
   ]
  },
  {
   "cell_type": "markdown",
   "metadata": {},
   "source": [
    "## Gradient"
   ]
  },
  {
   "cell_type": "code",
   "execution_count": 354,
   "metadata": {
    "collapsed": false
   },
   "outputs": [],
   "source": [
    "def gradient(theta,X,y,lambda_):\n",
    "    m,n = X.shape\n",
    "    theta = np.matrix(theta).T\n",
    "    h = sigmoid(X.dot(theta))\n",
    "    z = np.zeros((n,1))\n",
    "    z[1:]=1\n",
    "    grad = X.T.dot(h-y)\n",
    "    reg = lambda_*np.multiply(theta,z)\n",
    "    grad = (grad + reg)/m\n",
    "    return grad"
   ]
  },
  {
   "cell_type": "code",
   "execution_count": 513,
   "metadata": {
    "collapsed": false
   },
   "outputs": [
    {
     "data": {
      "text/plain": [
       "matrix([[-5.]])"
      ]
     },
     "execution_count": 513,
     "metadata": {},
     "output_type": "execute_result"
    }
   ],
   "source": [
    "# add bias terms\n",
    "X_ = np.insert(X, 0, 1,axis=1)\n",
    "m,n = X_.shape\n",
    "lambda_ = 1\n",
    "\n",
    "# initialize theta valus\n",
    "theta1 = np.zeros(n)\n",
    "\n",
    "# check the cost function\n",
    "lrCostFunction(theta1,X_,y,lambda_)\n",
    "\n",
    "# check the gradient\n",
    "gradient(theta1,X_,y,lambda_)[0]"
   ]
  },
  {
   "cell_type": "code",
   "execution_count": 514,
   "metadata": {
    "collapsed": false
   },
   "outputs": [
    {
     "data": {
      "text/plain": [
       "array([[1],\n",
       "       [1],\n",
       "       [1],\n",
       "       ..., \n",
       "       [0],\n",
       "       [0],\n",
       "       [0]])"
      ]
     },
     "execution_count": 514,
     "metadata": {},
     "output_type": "execute_result"
    }
   ],
   "source": [
    "(y==10).astype(int)"
   ]
  },
  {
   "cell_type": "code",
   "execution_count": 515,
   "metadata": {
    "collapsed": false
   },
   "outputs": [
    {
     "name": "stdout",
     "output_type": "stream",
     "text": [
      "1\n",
      "2\n",
      "3\n",
      "4\n",
      "5\n",
      "6\n",
      "7\n",
      "8\n",
      "9\n",
      "10\n"
     ]
    }
   ],
   "source": [
    "from scipy.optimize import minimize\n",
    "\n",
    "\n",
    "# help(opt.fmin_tnc)\n",
    "thetas = []\n",
    "for i in range(1,11):\n",
    "    cvp = minimize(fun=lrCostFunction, x0=theta1, args=(X_, (y==i).astype(int), lambda_), method='TNC', jac=gradient)\n",
    "    result2 = cvp.x\n",
    "    all_theta = result2\n",
    "    thetas.append(all_theta)\n",
    "#     p = sigmoid(X_.dot(all_theta))\n",
    "#     pred = (1*(p>=.5 ))\n",
    "\n",
    "#     pred = pred.reshape(pred.size,1)\n",
    "#     np.sum(pred ==(y==i).astype(int) )/float(pred.size)\n",
    "    print i\n"
   ]
  },
  {
   "cell_type": "code",
   "execution_count": 516,
   "metadata": {
    "collapsed": false
   },
   "outputs": [
    {
     "data": {
      "text/plain": [
       "0.94420000000000004"
      ]
     },
     "execution_count": 516,
     "metadata": {},
     "output_type": "execute_result"
    }
   ],
   "source": [
    "nteta\n",
    "nteta = np.array(thetas)\n",
    "X_.shape,nteta.shape\n",
    "np.sum((np.argmax(sigmoid(X_.dot(nteta.T)),axis=1)+1).reshape(y.size,1)==y)/float(y.size)\n",
    "# #0.96460000000000001"
   ]
  },
  {
   "cell_type": "code",
   "execution_count": 517,
   "metadata": {
    "collapsed": false
   },
   "outputs": [
    {
     "name": "stdout",
     "output_type": "stream",
     "text": [
      "finished\n"
     ]
    }
   ],
   "source": [
    "thetas_2 = []\n",
    "for i in range(1,11):\n",
    "    result2 = opt.fmin_tnc(func=lrCostFunction, x0=theta1, fprime=gradient, args=(X_, (y==i).astype(int), lambda_))\n",
    "    all_theta = result2[0]\n",
    "    thetas_2.append(all_theta)\n",
    "    p = sigmoid(X_.dot(all_theta))\n",
    "    pred = (1*(p>=.5 ))\n",
    "\n",
    "    pred = pred.reshape(pred.size,1)\n",
    "    np.sum(pred ==(y==i).astype(int) )/float(pred.size)\n",
    "print 'finished'\n"
   ]
  },
  {
   "cell_type": "code",
   "execution_count": 542,
   "metadata": {
    "collapsed": false
   },
   "outputs": [],
   "source": [
    "# print thetas_2\n",
    "nteta = np.array(thetas_2)\n",
    "X_.shape,nteta.shape\n",
    "np.sum((np.argmax(sigmoid(X_.dot(nteta.T)),axis=1)+1).reshape(y.size,1)==y)/float(y.size)\n",
    "# #0.96460000000000001"
   ]
  }
 ],
 "metadata": {
  "kernelspec": {
   "display_name": "Python [Root]",
   "language": "python",
   "name": "Python [Root]"
  },
  "language_info": {
   "codemirror_mode": {
    "name": "ipython",
    "version": 2
   },
   "file_extension": ".py",
   "mimetype": "text/x-python",
   "name": "python",
   "nbconvert_exporter": "python",
   "pygments_lexer": "ipython2",
   "version": "2.7.12"
  }
 },
 "nbformat": 4,
 "nbformat_minor": 0
}
