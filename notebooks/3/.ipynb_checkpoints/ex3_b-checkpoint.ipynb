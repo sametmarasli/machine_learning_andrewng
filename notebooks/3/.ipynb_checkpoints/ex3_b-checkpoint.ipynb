{
 "cells": [
  {
   "cell_type": "markdown",
   "metadata": {},
   "source": [
    "## Neural Networks"
   ]
  },
  {
   "cell_type": "markdown",
   "metadata": {},
   "source": [
    "In this part of the exercise, a neural network is employed to recognize handwritten digits using the same training set as before.  The neural network will be able to represent complex models that form non-linear hypotheses. Parameters from a neural network that we  have  already  trained is used for this excersise."
   ]
  },
  {
   "cell_type": "code",
   "execution_count": 1,
   "metadata": {
    "collapsed": true
   },
   "outputs": [],
   "source": [
    "import pandas as pd\n",
    "import numpy as np \n",
    "import matplotlib.pyplot as plt\n",
    "import matplotlib\n",
    "import os\n",
    "import scipy.optimize as opt\n",
    "import scipy.io as from_octave # used to implement mat file type\n",
    "import random as rd\n",
    "import matplotlib.cm as cm # used to display images in a specific colormap\n",
    "from scipy.misc import toimage # used to convert matrix to image\n",
    "# Update the matplotlib configuration parameters: \n",
    "matplotlib.rcParams.update({'font.size': 12, 'font.family': 'ubuntu'})\n",
    "% matplotlib inline"
   ]
  },
  {
   "cell_type": "markdown",
   "metadata": {},
   "source": [
    "## Convert .mat file and prepare data"
   ]
  },
  {
   "cell_type": "code",
   "execution_count": 2,
   "metadata": {
    "collapsed": false
   },
   "outputs": [
    {
     "data": {
      "text/plain": [
       "((5000, 1),\n",
       " (5000, 400),\n",
       " array([  1.,   2.,   3.,   4.,   5.,   6.,   7.,   8.,   9.,  10.]))"
      ]
     },
     "execution_count": 2,
     "metadata": {},
     "output_type": "execute_result"
    }
   ],
   "source": [
    "# Load training data\n",
    "directory = os.getcwd() + '/ex3data1.mat'\n",
    "data = from_octave.loadmat(directory)\n",
    "y = np.array(data['y'],dtype='float')\n",
    "X = np.array(data['X'],dtype='float')\n",
    "\n",
    "# setup sime parameters used for the specific excersise\n",
    "input_layer_size  = 400  # 20x20 Input Images of Digits\n",
    "num_labels = 10          # 10 labels, from 1 to 10 (for octave) 10 is actually 0\n",
    "m,n = X.shape \n",
    "\n",
    "y.shape, X.shape , np.unique(y)"
   ]
  },
  {
   "cell_type": "code",
   "execution_count": 3,
   "metadata": {
    "collapsed": false
   },
   "outputs": [],
   "source": [
    "# load trained weights\n",
    "directory = os.getcwd() + '/ex3weights.mat'\n",
    "theta_mat = from_octave.loadmat(directory)\n",
    "theta1 =  theta_mat[\"Theta1\"]\n",
    "theta2 =  theta_mat[\"Theta2\"]"
   ]
  },
  {
   "cell_type": "markdown",
   "metadata": {},
   "source": [
    "## Feedforward Propagation and Prediction"
   ]
  },
  {
   "cell_type": "code",
   "execution_count": 4,
   "metadata": {
    "collapsed": true
   },
   "outputs": [],
   "source": [
    "def sigmoid(x):\n",
    "    '''\n",
    "    J = SIGMOID(z) computes the sigmoid of z.\n",
    "    '''    \n",
    "    return 1/(1+np.exp(-x))\n",
    "\n",
    "def predict(theta1,theta2,X):    \n",
    "    '''\n",
    "    #p = PREDICT(Theta1, Theta2, X) outputs the predicted label of X given the\n",
    "    #trained weights of a neural network (Theta1, Theta2)\n",
    "    '''    \n",
    "    z2 = X.dot(theta1.T)\n",
    "    a2 = sigmoid(z2)\n",
    "    a2_b = np.insert(a2, 0, 1,axis=1)\n",
    "    z2 = a2_b.dot(theta2.T)\n",
    "    a3 = sigmoid(z2)\n",
    "    pred = (np.argmax(a3,axis=1)+1).reshape(m,1)\n",
    "    return pred"
   ]
  },
  {
   "cell_type": "code",
   "execution_count": 5,
   "metadata": {
    "collapsed": false
   },
   "outputs": [
    {
     "name": "stdout",
     "output_type": "stream",
     "text": [
      "(5000, 401) (25, 401) (10, 26)\n",
      "\n",
      "Training Set Accuracy : 97.52\n"
     ]
    }
   ],
   "source": [
    "# add the bias terms\n",
    "X_ = np.insert(X, 0, 1,axis=1)\n",
    "print X_.shape ,theta1.shape ,theta2.shape\n",
    "\n",
    "pred_ = predict(theta1,theta2,X_)\n",
    "accuracy = (np.sum(pred_ == y)/float(m))*100\n",
    "\n",
    "print '\\nTraining Set Accuracy : {}'.format(accuracy)"
   ]
  },
  {
   "cell_type": "markdown",
   "metadata": {},
   "source": [
    "## Randomly permute examples"
   ]
  },
  {
   "cell_type": "code",
   "execution_count": 6,
   "metadata": {
    "collapsed": false
   },
   "outputs": [],
   "source": [
    "def permuter():\n",
    "    # chose a random data point\n",
    "    sel = rd.sample(range(1, m), 1);\n",
    "    # plot some images\n",
    "    fig = plt.figure(figsize=(2,2))\n",
    "    data1 = X[sel].reshape(20,20).T\n",
    "    img = toimage(data1)\n",
    "    plt.imshow(img,cmap = cm.Greys_r)\n",
    "    print 'Displaying Example Image of {}'.format(float(y[sel]))\n",
    "    print 'and the neural networks prediction is {}'.format(float(pred_[sel]))"
   ]
  },
  {
   "cell_type": "code",
   "execution_count": 7,
   "metadata": {
    "collapsed": false,
    "scrolled": true
   },
   "outputs": [
    {
     "name": "stdout",
     "output_type": "stream",
     "text": [
      "Displaying Example Image of 3.0\n",
      "and the neural networks prediction is 3.0\n"
     ]
    },
    {
     "data": {
      "image/png": "[encoded data removed]",
      "text/plain": [
       "<matplotlib.figure.Figure at 0x7ff908443d50>"
      ]
     },
     "metadata": {},
     "output_type": "display_data"
    }
   ],
   "source": [
    "permuter()"
   ]
  }
 ],
 "metadata": {
  "kernelspec": {
   "display_name": "Python [Root]",
   "language": "python",
   "name": "Python [Root]"
  },
  "language_info": {
   "codemirror_mode": {
    "name": "ipython",
    "version": 2
   },
   "file_extension": ".py",
   "mimetype": "text/x-python",
   "name": "python",
   "nbconvert_exporter": "python",
   "pygments_lexer": "ipython2",
   "version": "2.7.12"
  }
 },
 "nbformat": 4,
 "nbformat_minor": 0
}
